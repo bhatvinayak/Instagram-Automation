{
 "cells": [
  {
   "cell_type": "code",
   "execution_count": 9,
   "metadata": {},
   "outputs": [],
   "source": [
    "from selenium import webdriver\n",
    "from time import sleep"
   ]
  },
  {
   "cell_type": "code",
   "execution_count": null,
   "metadata": {},
   "outputs": [],
   "source": [
    "#add your chroma river path here\n",
    "driver = webdriver.Chrome('chrome driver path')\n",
    "driver.get('https://instagram.com/accounts/login/')\n",
    "sleep(3)\n",
    "\n",
    "#replace username with your username\n",
    "un = 'username'\n",
    "#replace password with your password\n",
    "pw = 'password'\n",
    "\n",
    "ux = '//input[@name=\\\"username\\\"]'\n",
    "px = '//input[@name=\\\"password\\\"]'\n",
    "bx = '//button[@type=\"submit\"]'\n",
    "\n",
    "driver.find_element_by_xpath(ux).send_keys(un)\n",
    "driver.find_element_by_xpath(px).send_keys(pw)\n",
    "driver.find_element_by_xpath(bx).click()\n",
    "\n",
    "sleep(4)\n",
    "\n",
    "driver.find_element_by_xpath(\"//button[contains(text(), 'Not Now')]\").click()\n",
    "\n",
    "sleep(2)\n",
    "while True:\n",
    "    driver.execute_script(\"window.scrollTo(0, window.scrollY + 900)\")\n",
    "    sleep(4)\n",
    "    "
   ]
  },
  {
   "cell_type": "code",
   "execution_count": 11,
   "metadata": {},
   "outputs": [],
   "source": []
  },
  {
   "cell_type": "code",
   "execution_count": null,
   "metadata": {},
   "outputs": [],
   "source": []
  }
 ],
 "metadata": {
  "kernelspec": {
   "display_name": "Python 3",
   "language": "python",
   "name": "python3"
  },
  "language_info": {
   "codemirror_mode": {
    "name": "ipython",
    "version": 3
   },
   "file_extension": ".py",
   "mimetype": "text/x-python",
   "name": "python",
   "nbconvert_exporter": "python",
   "pygments_lexer": "ipython3",
   "version": "3.7.4"
  }
 },
 "nbformat": 4,
 "nbformat_minor": 2
}
